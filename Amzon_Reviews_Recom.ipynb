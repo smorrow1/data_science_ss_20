{
 "cells": [
  {
   "cell_type": "markdown",
   "metadata": {},
   "source": []
  },
  {
   "cell_type": "code",
   "execution_count": 44,
   "metadata": {},
   "outputs": [],
   "source": [
    "import json\n",
    "import gzip\n",
    "import pandas as pd\n",
    "from lxml import html  \n",
    "import csv,os,json\n",
    "import requests\n",
    "from time import sleep\n",
    "import random\n",
    "from bs4 import BeautifulSoup\n",
    "import matplotlib.pyplot as plt \n",
    "import seaborn as sns"
   ]
  },
  {
   "cell_type": "code",
   "execution_count": 3,
   "metadata": {},
   "outputs": [],
   "source": [
    "path = \"Software_5.json\"\n",
    "data_df = pd.read_json(path, lines=True)"
   ]
  },
  {
   "cell_type": "code",
   "execution_count": 4,
   "metadata": {},
   "outputs": [
    {
     "data": {
      "text/html": [
       "<div>\n",
       "<style scoped>\n",
       "    .dataframe tbody tr th:only-of-type {\n",
       "        vertical-align: middle;\n",
       "    }\n",
       "\n",
       "    .dataframe tbody tr th {\n",
       "        vertical-align: top;\n",
       "    }\n",
       "\n",
       "    .dataframe thead th {\n",
       "        text-align: right;\n",
       "    }\n",
       "</style>\n",
       "<table border=\"1\" class=\"dataframe\">\n",
       "  <thead>\n",
       "    <tr style=\"text-align: right;\">\n",
       "      <th></th>\n",
       "      <th>Rating</th>\n",
       "      <th>verified</th>\n",
       "      <th>reviewTime</th>\n",
       "      <th>UserID</th>\n",
       "      <th>ProductID</th>\n",
       "      <th>style</th>\n",
       "      <th>reviewerName</th>\n",
       "      <th>reviewText</th>\n",
       "      <th>summary</th>\n",
       "      <th>unixReviewTime</th>\n",
       "      <th>vote</th>\n",
       "      <th>image</th>\n",
       "    </tr>\n",
       "  </thead>\n",
       "  <tbody>\n",
       "    <tr>\n",
       "      <th>0</th>\n",
       "      <td>4</td>\n",
       "      <td>False</td>\n",
       "      <td>10 20, 2010</td>\n",
       "      <td>A38NELQT98S4H8</td>\n",
       "      <td>0321719816</td>\n",
       "      <td>{'Format:': ' DVD-ROM'}</td>\n",
       "      <td>WB Halper</td>\n",
       "      <td>I've been using Dreamweaver (and it's predeces...</td>\n",
       "      <td>A solid overview of Dreamweaver CS5</td>\n",
       "      <td>1287532800</td>\n",
       "      <td>NaN</td>\n",
       "      <td>NaN</td>\n",
       "    </tr>\n",
       "    <tr>\n",
       "      <th>1</th>\n",
       "      <td>4</td>\n",
       "      <td>False</td>\n",
       "      <td>10 18, 2010</td>\n",
       "      <td>A3QJU4FEN8PQSZ</td>\n",
       "      <td>0321719816</td>\n",
       "      <td>{'Format:': ' DVD-ROM'}</td>\n",
       "      <td>Grimmy</td>\n",
       "      <td>The demo is done with the PC version, with ref...</td>\n",
       "      <td>A good value</td>\n",
       "      <td>1287360000</td>\n",
       "      <td>NaN</td>\n",
       "      <td>NaN</td>\n",
       "    </tr>\n",
       "    <tr>\n",
       "      <th>2</th>\n",
       "      <td>5</td>\n",
       "      <td>False</td>\n",
       "      <td>10 16, 2010</td>\n",
       "      <td>ACJT8MUC0LRF0</td>\n",
       "      <td>0321719816</td>\n",
       "      <td>{'Format:': ' DVD-ROM'}</td>\n",
       "      <td>D. Fowler</td>\n",
       "      <td>If you've been wanting to learn how to create ...</td>\n",
       "      <td>This is excellent software for those who want ...</td>\n",
       "      <td>1287187200</td>\n",
       "      <td>3</td>\n",
       "      <td>NaN</td>\n",
       "    </tr>\n",
       "    <tr>\n",
       "      <th>3</th>\n",
       "      <td>5</td>\n",
       "      <td>False</td>\n",
       "      <td>10 12, 2010</td>\n",
       "      <td>AYUF7YETYOLNX</td>\n",
       "      <td>0321719816</td>\n",
       "      <td>{'Format:': ' DVD-ROM'}</td>\n",
       "      <td>Bryan Newman</td>\n",
       "      <td>I've been creating websites with Dreamweaver f...</td>\n",
       "      <td>A Fantastic Overview of Dream Weaver and Web D...</td>\n",
       "      <td>1286841600</td>\n",
       "      <td>NaN</td>\n",
       "      <td>NaN</td>\n",
       "    </tr>\n",
       "    <tr>\n",
       "      <th>4</th>\n",
       "      <td>5</td>\n",
       "      <td>False</td>\n",
       "      <td>10 7, 2010</td>\n",
       "      <td>A31ICLWQ9CSHRS</td>\n",
       "      <td>0321719816</td>\n",
       "      <td>{'Format:': ' DVD-ROM'}</td>\n",
       "      <td>Al Swanson</td>\n",
       "      <td>I decided (after trying a number of other prod...</td>\n",
       "      <td>Excellent Tutorials!</td>\n",
       "      <td>1286409600</td>\n",
       "      <td>NaN</td>\n",
       "      <td>NaN</td>\n",
       "    </tr>\n",
       "    <tr>\n",
       "      <th>...</th>\n",
       "      <td>...</td>\n",
       "      <td>...</td>\n",
       "      <td>...</td>\n",
       "      <td>...</td>\n",
       "      <td>...</td>\n",
       "      <td>...</td>\n",
       "      <td>...</td>\n",
       "      <td>...</td>\n",
       "      <td>...</td>\n",
       "      <td>...</td>\n",
       "      <td>...</td>\n",
       "      <td>...</td>\n",
       "    </tr>\n",
       "    <tr>\n",
       "      <th>12800</th>\n",
       "      <td>4</td>\n",
       "      <td>False</td>\n",
       "      <td>07 16, 2016</td>\n",
       "      <td>A1E50L7PCVXLN4</td>\n",
       "      <td>B01FFVDY9M</td>\n",
       "      <td>{'Platform:': ' Key Card'}</td>\n",
       "      <td>Colinda</td>\n",
       "      <td>When I ordered this it was listed as Photo Edi...</td>\n",
       "      <td>File Management Software with Basic Editing Ca...</td>\n",
       "      <td>1468627200</td>\n",
       "      <td>NaN</td>\n",
       "      <td>NaN</td>\n",
       "    </tr>\n",
       "    <tr>\n",
       "      <th>12801</th>\n",
       "      <td>3</td>\n",
       "      <td>False</td>\n",
       "      <td>06 17, 2017</td>\n",
       "      <td>AVU1ILDDYW301</td>\n",
       "      <td>B01HAP3NUG</td>\n",
       "      <td>NaN</td>\n",
       "      <td>G. Hearn</td>\n",
       "      <td>This software has SO much going on.  Theres a ...</td>\n",
       "      <td>Might not be for the \"novice\"</td>\n",
       "      <td>1497657600</td>\n",
       "      <td>NaN</td>\n",
       "      <td>NaN</td>\n",
       "    </tr>\n",
       "    <tr>\n",
       "      <th>12802</th>\n",
       "      <td>4</td>\n",
       "      <td>False</td>\n",
       "      <td>01 24, 2017</td>\n",
       "      <td>A2LW5AL0KQ9P1M</td>\n",
       "      <td>B01HAP3NUG</td>\n",
       "      <td>NaN</td>\n",
       "      <td>Dr. E</td>\n",
       "      <td>I have used both more complex and less complex...</td>\n",
       "      <td>Great, Inexpensive Software for Those Who Have...</td>\n",
       "      <td>1485216000</td>\n",
       "      <td>NaN</td>\n",
       "      <td>NaN</td>\n",
       "    </tr>\n",
       "    <tr>\n",
       "      <th>12803</th>\n",
       "      <td>3</td>\n",
       "      <td>False</td>\n",
       "      <td>06 14, 2018</td>\n",
       "      <td>AZ515FFZ7I2P7</td>\n",
       "      <td>B01HAP47PQ</td>\n",
       "      <td>{'Platform:': ' PC Disc'}</td>\n",
       "      <td>Jerry Jackson Jr.</td>\n",
       "      <td>Pinnacle Studio 20 Ultimate is a perfectly ser...</td>\n",
       "      <td>Gets the job done ... but not as easy as it sh...</td>\n",
       "      <td>1528934400</td>\n",
       "      <td>NaN</td>\n",
       "      <td>NaN</td>\n",
       "    </tr>\n",
       "    <tr>\n",
       "      <th>12804</th>\n",
       "      <td>4</td>\n",
       "      <td>False</td>\n",
       "      <td>04 16, 2018</td>\n",
       "      <td>A2WPL6Y08K6ZQH</td>\n",
       "      <td>B01HAP47PQ</td>\n",
       "      <td>{'Platform:': ' PC Disc'}</td>\n",
       "      <td>Narut Ujnat</td>\n",
       "      <td>A program that is fairly easy to use and provi...</td>\n",
       "      <td>Good overall program.</td>\n",
       "      <td>1523836800</td>\n",
       "      <td>NaN</td>\n",
       "      <td>NaN</td>\n",
       "    </tr>\n",
       "  </tbody>\n",
       "</table>\n",
       "<p>12805 rows × 12 columns</p>\n",
       "</div>"
      ],
      "text/plain": [
       "       Rating  verified   reviewTime          UserID   ProductID  \\\n",
       "0           4     False  10 20, 2010  A38NELQT98S4H8  0321719816   \n",
       "1           4     False  10 18, 2010  A3QJU4FEN8PQSZ  0321719816   \n",
       "2           5     False  10 16, 2010   ACJT8MUC0LRF0  0321719816   \n",
       "3           5     False  10 12, 2010   AYUF7YETYOLNX  0321719816   \n",
       "4           5     False   10 7, 2010  A31ICLWQ9CSHRS  0321719816   \n",
       "...       ...       ...          ...             ...         ...   \n",
       "12800       4     False  07 16, 2016  A1E50L7PCVXLN4  B01FFVDY9M   \n",
       "12801       3     False  06 17, 2017   AVU1ILDDYW301  B01HAP3NUG   \n",
       "12802       4     False  01 24, 2017  A2LW5AL0KQ9P1M  B01HAP3NUG   \n",
       "12803       3     False  06 14, 2018   AZ515FFZ7I2P7  B01HAP47PQ   \n",
       "12804       4     False  04 16, 2018  A2WPL6Y08K6ZQH  B01HAP47PQ   \n",
       "\n",
       "                            style       reviewerName  \\\n",
       "0         {'Format:': ' DVD-ROM'}          WB Halper   \n",
       "1         {'Format:': ' DVD-ROM'}             Grimmy   \n",
       "2         {'Format:': ' DVD-ROM'}          D. Fowler   \n",
       "3         {'Format:': ' DVD-ROM'}       Bryan Newman   \n",
       "4         {'Format:': ' DVD-ROM'}         Al Swanson   \n",
       "...                           ...                ...   \n",
       "12800  {'Platform:': ' Key Card'}            Colinda   \n",
       "12801                         NaN           G. Hearn   \n",
       "12802                         NaN              Dr. E   \n",
       "12803   {'Platform:': ' PC Disc'}  Jerry Jackson Jr.   \n",
       "12804   {'Platform:': ' PC Disc'}        Narut Ujnat   \n",
       "\n",
       "                                              reviewText  \\\n",
       "0      I've been using Dreamweaver (and it's predeces...   \n",
       "1      The demo is done with the PC version, with ref...   \n",
       "2      If you've been wanting to learn how to create ...   \n",
       "3      I've been creating websites with Dreamweaver f...   \n",
       "4      I decided (after trying a number of other prod...   \n",
       "...                                                  ...   \n",
       "12800  When I ordered this it was listed as Photo Edi...   \n",
       "12801  This software has SO much going on.  Theres a ...   \n",
       "12802  I have used both more complex and less complex...   \n",
       "12803  Pinnacle Studio 20 Ultimate is a perfectly ser...   \n",
       "12804  A program that is fairly easy to use and provi...   \n",
       "\n",
       "                                                 summary  unixReviewTime vote  \\\n",
       "0                    A solid overview of Dreamweaver CS5      1287532800  NaN   \n",
       "1                                           A good value      1287360000  NaN   \n",
       "2      This is excellent software for those who want ...      1287187200    3   \n",
       "3      A Fantastic Overview of Dream Weaver and Web D...      1286841600  NaN   \n",
       "4                                   Excellent Tutorials!      1286409600  NaN   \n",
       "...                                                  ...             ...  ...   \n",
       "12800  File Management Software with Basic Editing Ca...      1468627200  NaN   \n",
       "12801                      Might not be for the \"novice\"      1497657600  NaN   \n",
       "12802  Great, Inexpensive Software for Those Who Have...      1485216000  NaN   \n",
       "12803  Gets the job done ... but not as easy as it sh...      1528934400  NaN   \n",
       "12804                              Good overall program.      1523836800  NaN   \n",
       "\n",
       "      image  \n",
       "0       NaN  \n",
       "1       NaN  \n",
       "2       NaN  \n",
       "3       NaN  \n",
       "4       NaN  \n",
       "...     ...  \n",
       "12800   NaN  \n",
       "12801   NaN  \n",
       "12802   NaN  \n",
       "12803   NaN  \n",
       "12804   NaN  \n",
       "\n",
       "[12805 rows x 12 columns]"
      ]
     },
     "execution_count": 4,
     "metadata": {},
     "output_type": "execute_result"
    }
   ],
   "source": [
    "data_df=data_df.rename(columns = {'overall':'Rating', 'reviewerID':'UserID', 'asin':'ProductID'})\n",
    "data_df.drop(\"style\", axis=1)\n",
    "data_df"
   ]
  },
  {
   "cell_type": "code",
   "execution_count": 5,
   "metadata": {},
   "outputs": [
    {
     "data": {
      "text/html": [
       "<div>\n",
       "<style scoped>\n",
       "    .dataframe tbody tr th:only-of-type {\n",
       "        vertical-align: middle;\n",
       "    }\n",
       "\n",
       "    .dataframe tbody tr th {\n",
       "        vertical-align: top;\n",
       "    }\n",
       "\n",
       "    .dataframe thead th {\n",
       "        text-align: right;\n",
       "    }\n",
       "</style>\n",
       "<table border=\"1\" class=\"dataframe\">\n",
       "  <thead>\n",
       "    <tr style=\"text-align: right;\">\n",
       "      <th></th>\n",
       "      <th>ProductID</th>\n",
       "      <th>UserID</th>\n",
       "      <th>Rating</th>\n",
       "    </tr>\n",
       "  </thead>\n",
       "  <tbody>\n",
       "    <tr>\n",
       "      <th>0</th>\n",
       "      <td>0077613252</td>\n",
       "      <td>A240ORQ2LF9LUI</td>\n",
       "      <td>4.0</td>\n",
       "    </tr>\n",
       "    <tr>\n",
       "      <th>1</th>\n",
       "      <td>0077613252</td>\n",
       "      <td>A1YCCU0YRLS0FE</td>\n",
       "      <td>4.0</td>\n",
       "    </tr>\n",
       "    <tr>\n",
       "      <th>2</th>\n",
       "      <td>0077613252</td>\n",
       "      <td>A1BJHRQDYVAY2J</td>\n",
       "      <td>1.0</td>\n",
       "    </tr>\n",
       "    <tr>\n",
       "      <th>3</th>\n",
       "      <td>0077613252</td>\n",
       "      <td>APRDVZ6QBIQXT</td>\n",
       "      <td>3.0</td>\n",
       "    </tr>\n",
       "    <tr>\n",
       "      <th>4</th>\n",
       "      <td>0077775473</td>\n",
       "      <td>A2JZTTBSLS1QXV</td>\n",
       "      <td>5.0</td>\n",
       "    </tr>\n",
       "    <tr>\n",
       "      <th>...</th>\n",
       "      <td>...</td>\n",
       "      <td>...</td>\n",
       "      <td>...</td>\n",
       "    </tr>\n",
       "    <tr>\n",
       "      <th>459431</th>\n",
       "      <td>B01HF41TKI</td>\n",
       "      <td>AGEWYJ2NF5C2H</td>\n",
       "      <td>2.0</td>\n",
       "    </tr>\n",
       "    <tr>\n",
       "      <th>459432</th>\n",
       "      <td>B01HF3G4BS</td>\n",
       "      <td>A3VCFV8WEQG9R5</td>\n",
       "      <td>1.0</td>\n",
       "    </tr>\n",
       "    <tr>\n",
       "      <th>459433</th>\n",
       "      <td>B01HF3G4BS</td>\n",
       "      <td>A3DXGHJF6SOHNC</td>\n",
       "      <td>5.0</td>\n",
       "    </tr>\n",
       "    <tr>\n",
       "      <th>459434</th>\n",
       "      <td>B01HJAMWOK</td>\n",
       "      <td>A1WOS4D7QA06DO</td>\n",
       "      <td>5.0</td>\n",
       "    </tr>\n",
       "    <tr>\n",
       "      <th>459435</th>\n",
       "      <td>B01HJAMWOK</td>\n",
       "      <td>A20SG9ZGIIFW69</td>\n",
       "      <td>5.0</td>\n",
       "    </tr>\n",
       "  </tbody>\n",
       "</table>\n",
       "<p>459436 rows × 3 columns</p>\n",
       "</div>"
      ],
      "text/plain": [
       "         ProductID          UserID  Rating\n",
       "0       0077613252  A240ORQ2LF9LUI     4.0\n",
       "1       0077613252  A1YCCU0YRLS0FE     4.0\n",
       "2       0077613252  A1BJHRQDYVAY2J     1.0\n",
       "3       0077613252   APRDVZ6QBIQXT     3.0\n",
       "4       0077775473  A2JZTTBSLS1QXV     5.0\n",
       "...            ...             ...     ...\n",
       "459431  B01HF41TKI   AGEWYJ2NF5C2H     2.0\n",
       "459432  B01HF3G4BS  A3VCFV8WEQG9R5     1.0\n",
       "459433  B01HF3G4BS  A3DXGHJF6SOHNC     5.0\n",
       "459434  B01HJAMWOK  A1WOS4D7QA06DO     5.0\n",
       "459435  B01HJAMWOK  A20SG9ZGIIFW69     5.0\n",
       "\n",
       "[459436 rows x 3 columns]"
      ]
     },
     "execution_count": 5,
     "metadata": {},
     "output_type": "execute_result"
    }
   ],
   "source": [
    "path_2 = 'Software.csv'\n",
    "df_small = pd.read_csv(path_2, names=[\"ProductID\", \"UserID\", \"Rating\"])\n",
    "df_small"
   ]
  },
  {
   "cell_type": "code",
   "execution_count": 6,
   "metadata": {},
   "outputs": [],
   "source": [
    "merged_df = data_df.merge(df_small)"
   ]
  },
  {
   "cell_type": "code",
   "execution_count": 7,
   "metadata": {},
   "outputs": [],
   "source": [
    "def parse_amz(url):\n",
    "    page = requests.get(url, headers=headers)\n",
    "    soup = BeautifulSoup(page.content, 'html.parser')\n",
    "    while True:\n",
    "            sleep(random.randint(10,15))\n",
    "            try:\n",
    "                title = soup.find(id=\"productTitle\").get_text().strip()\n",
    "                price = soup.find(id=\"priceblock_ourprice\").get_text()\n",
    "                converted_price = float(price[0:5])\n",
    "\n",
    "                if page.status_code != 200:\n",
    "                    raise ValueError('captha')\n",
    "\n",
    "                data = { 'Name':title, \n",
    "                         'Price':price,\n",
    "                         'Adjusted_price':converted_price}\n",
    "                return data \n",
    "            except Exception as e:\n",
    "                print(e)\n",
    "            continue\n",
    "                \n",
    "def read_asins():\n",
    "    # insert the real list from dataframe here!!!!!!!!!!!\n",
    "    asin_list = ['0321719816']\n",
    "    extracted_data = []\n",
    "    for i in asin_list:\n",
    "        url = \"http://www.amazon.com/dp/\" + i \n",
    "        print (\"Processing: \"+url)\n",
    "        extracted_data.append(parse_amz(url))\n",
    "        sleep(random.randint(10,100))\n",
    "    f=open('data.json','w')\n",
    "    json.dump(extracted_data,f,indent=4)"
   ]
  },
  {
   "cell_type": "code",
   "execution_count": 8,
   "metadata": {},
   "outputs": [
    {
     "name": "stdout",
     "output_type": "stream",
     "text": [
      "ProductID     object\n",
      "UserID        object\n",
      "Rating       float64\n",
      "dtype: object \n",
      "\n",
      "<class 'pandas.core.frame.DataFrame'>\n",
      "RangeIndex: 459436 entries, 0 to 459435\n",
      "Data columns (total 3 columns):\n",
      " #   Column     Non-Null Count   Dtype  \n",
      "---  ------     --------------   -----  \n",
      " 0   ProductID  459436 non-null  object \n",
      " 1   UserID     459436 non-null  object \n",
      " 2   Rating     459436 non-null  float64\n",
      "dtypes: float64(1), object(2)\n",
      "memory usage: 10.5+ MB\n",
      "None \n",
      "\n",
      "Description of the Rating column: \n",
      " count    459436.000000\n",
      "mean          3.570175\n",
      "std           1.626662\n",
      "min           1.000000\n",
      "25%           2.000000\n",
      "50%           4.000000\n",
      "75%           5.000000\n",
      "max           5.000000\n",
      "Name: Rating, dtype: float64\n"
     ]
    }
   ],
   "source": [
    "################### Data Exploration #######################\n",
    "\n",
    "print(df_small.dtypes, \"\\n\")\n",
    "print(df_small.info(), \"\\n\")\n",
    "print(\"Description of the Rating column:\", \"\\n\", df_small.describe()['Rating'])"
   ]
  },
  {
   "cell_type": "code",
   "execution_count": 9,
   "metadata": {},
   "outputs": [
    {
     "data": {
      "text/plain": [
       "ProductID    0\n",
       "UserID       0\n",
       "Rating       0\n",
       "dtype: int64"
      ]
     },
     "execution_count": 9,
     "metadata": {},
     "output_type": "execute_result"
    }
   ],
   "source": [
    "##### Check for NA's ###########\n",
    "df_small.isna().sum()"
   ]
  },
  {
   "cell_type": "code",
   "execution_count": 10,
   "metadata": {},
   "outputs": [
    {
     "data": {
      "text/plain": [
       "<matplotlib.axes._subplots.AxesSubplot at 0x1156c7f10>"
      ]
     },
     "execution_count": 10,
     "metadata": {},
     "output_type": "execute_result"
    },
    {
     "data": {
      "image/png": "[encoded data removed]",
      "text/plain": [
       "<Figure size 432x288 with 1 Axes>"
      ]
     },
     "metadata": {
      "needs_background": "light"
     },
     "output_type": "display_data"
    }
   ],
   "source": [
    "df_small.groupby(['Rating']).size().plot.bar()"
   ]
  },
  {
   "cell_type": "code",
   "execution_count": 11,
   "metadata": {},
   "outputs": [
    {
     "name": "stdout",
     "output_type": "stream",
     "text": [
      "UserID\n",
      "A5JLAU2ARJ0BO           73\n",
      "A680RUE1FDO8B           71\n",
      "A225G2TFM76GYX          69\n",
      "A3W4D8XOGLWUN5          68\n",
      "A15S4XW3CRISZ5          66\n",
      "                        ..\n",
      "A3FLUNWZ1P37UW           1\n",
      "A3FLUOIZPA5KSB           1\n",
      "A3FLUTCXZ8HCUN           1\n",
      "A3FLVZRU40GOND           1\n",
      "A00577669P2XCLU956L8     1\n",
      "Name: Rating, Length: 375147, dtype: int64 \n",
      " \n",
      " count    375147.000000\n",
      "mean          1.224683\n",
      "std           0.891902\n",
      "min           1.000000\n",
      "25%           1.000000\n",
      "50%           1.000000\n",
      "75%           1.000000\n",
      "max          73.000000\n",
      "Name: Rating, dtype: float64\n"
     ]
    }
   ],
   "source": [
    "rated_products_per_user = df_small.groupby(by='UserID')['Rating'].count().sort_values(ascending=False)\n",
    "print(rated_products_per_user, \"\\n\", \"\\n\", rated_products_per_user.describe())"
   ]
  },
  {
   "cell_type": "code",
   "execution_count": 18,
   "metadata": {},
   "outputs": [],
   "source": [
    "heavy_users = df_small.groupby(by='UserID')['Rating'].count()"
   ]
  },
  {
   "cell_type": "code",
   "execution_count": 26,
   "metadata": {},
   "outputs": [
    {
     "data": {
      "text/plain": [
       "UserID\n",
       "A5JLAU2ARJ0BO     73\n",
       "A680RUE1FDO8B     71\n",
       "A225G2TFM76GYX    69\n",
       "A3W4D8XOGLWUN5    68\n",
       "A15S4XW3CRISZ5    66\n",
       "Name: Rating, dtype: int64"
      ]
     },
     "execution_count": 26,
     "metadata": {},
     "output_type": "execute_result"
    }
   ],
   "source": [
    "# Top 5 Users\n",
    "heavy_users.sort_values(ascending=False).head()"
   ]
  },
  {
   "cell_type": "code",
   "execution_count": 30,
   "metadata": {},
   "outputs": [
    {
     "data": {
      "text/plain": [
       "ProductID\n",
       "B01HJAMWOK    5.0\n",
       "B002JAT2S0    5.0\n",
       "B002E8EREQ    5.0\n",
       "B002EXYP48    5.0\n",
       "B002FD3688    5.0\n",
       "Name: Rating, dtype: float64"
      ]
     },
     "execution_count": 30,
     "metadata": {},
     "output_type": "execute_result"
    }
   ],
   "source": [
    "df_small.groupby('ProductID')['Rating'].mean().sort_values(ascending=False).head()"
   ]
  },
  {
   "cell_type": "code",
   "execution_count": 31,
   "metadata": {},
   "outputs": [
    {
     "data": {
      "text/plain": [
       "ProductID\n",
       "B00UB76290    8994\n",
       "B00CTTEKJW    7939\n",
       "B00NG7JVSQ    6395\n",
       "B00H9A60O4    4730\n",
       "B00E6LJ2SA    4048\n",
       "Name: Rating, dtype: int64"
      ]
     },
     "execution_count": 31,
     "metadata": {},
     "output_type": "execute_result"
    }
   ],
   "source": [
    "#Total no of rating for product\n",
    "\n",
    "df_small.groupby('ProductID')['Rating'].count().sort_values(ascending=False).head()"
   ]
  },
  {
   "cell_type": "code",
   "execution_count": 33,
   "metadata": {},
   "outputs": [],
   "source": [
    "ratings_mean_count = pd.DataFrame(df_small.groupby('ProductID')['Rating'].mean())"
   ]
  },
  {
   "cell_type": "code",
   "execution_count": 35,
   "metadata": {},
   "outputs": [],
   "source": [
    "ratings_mean_count['rating_counts'] = pd.DataFrame(df_small.groupby('ProductID')['Rating'].count())"
   ]
  },
  {
   "cell_type": "code",
   "execution_count": 40,
   "metadata": {},
   "outputs": [
    {
     "data": {
      "text/html": [
       "<div>\n",
       "<style scoped>\n",
       "    .dataframe tbody tr th:only-of-type {\n",
       "        vertical-align: middle;\n",
       "    }\n",
       "\n",
       "    .dataframe tbody tr th {\n",
       "        vertical-align: top;\n",
       "    }\n",
       "\n",
       "    .dataframe thead th {\n",
       "        text-align: right;\n",
       "    }\n",
       "</style>\n",
       "<table border=\"1\" class=\"dataframe\">\n",
       "  <thead>\n",
       "    <tr style=\"text-align: right;\">\n",
       "      <th></th>\n",
       "      <th>Rating</th>\n",
       "      <th>rating_counts</th>\n",
       "    </tr>\n",
       "    <tr>\n",
       "      <th>ProductID</th>\n",
       "      <th></th>\n",
       "      <th></th>\n",
       "    </tr>\n",
       "  </thead>\n",
       "  <tbody>\n",
       "    <tr>\n",
       "      <th>B00UB76290</th>\n",
       "      <td>4.231043</td>\n",
       "      <td>8994</td>\n",
       "    </tr>\n",
       "    <tr>\n",
       "      <th>B00CTTEKJW</th>\n",
       "      <td>3.746819</td>\n",
       "      <td>7939</td>\n",
       "    </tr>\n",
       "    <tr>\n",
       "      <th>B00NG7JVSQ</th>\n",
       "      <td>3.418765</td>\n",
       "      <td>6395</td>\n",
       "    </tr>\n",
       "    <tr>\n",
       "      <th>B00H9A60O4</th>\n",
       "      <td>4.076533</td>\n",
       "      <td>4730</td>\n",
       "    </tr>\n",
       "    <tr>\n",
       "      <th>B00E6LJ2SA</th>\n",
       "      <td>3.269516</td>\n",
       "      <td>4048</td>\n",
       "    </tr>\n",
       "    <tr>\n",
       "      <th>...</th>\n",
       "      <td>...</td>\n",
       "      <td>...</td>\n",
       "    </tr>\n",
       "    <tr>\n",
       "      <th>B0019QT0WI</th>\n",
       "      <td>5.000000</td>\n",
       "      <td>1</td>\n",
       "    </tr>\n",
       "    <tr>\n",
       "      <th>B0019S3504</th>\n",
       "      <td>1.000000</td>\n",
       "      <td>1</td>\n",
       "    </tr>\n",
       "    <tr>\n",
       "      <th>B0019S4NU0</th>\n",
       "      <td>1.000000</td>\n",
       "      <td>1</td>\n",
       "    </tr>\n",
       "    <tr>\n",
       "      <th>B0019SSIK6</th>\n",
       "      <td>1.000000</td>\n",
       "      <td>1</td>\n",
       "    </tr>\n",
       "    <tr>\n",
       "      <th>B0012W3VIS</th>\n",
       "      <td>5.000000</td>\n",
       "      <td>1</td>\n",
       "    </tr>\n",
       "  </tbody>\n",
       "</table>\n",
       "<p>21663 rows × 2 columns</p>\n",
       "</div>"
      ],
      "text/plain": [
       "              Rating  rating_counts\n",
       "ProductID                          \n",
       "B00UB76290  4.231043           8994\n",
       "B00CTTEKJW  3.746819           7939\n",
       "B00NG7JVSQ  3.418765           6395\n",
       "B00H9A60O4  4.076533           4730\n",
       "B00E6LJ2SA  3.269516           4048\n",
       "...              ...            ...\n",
       "B0019QT0WI  5.000000              1\n",
       "B0019S3504  1.000000              1\n",
       "B0019S4NU0  1.000000              1\n",
       "B0019SSIK6  1.000000              1\n",
       "B0012W3VIS  5.000000              1\n",
       "\n",
       "[21663 rows x 2 columns]"
      ]
     },
     "execution_count": 40,
     "metadata": {},
     "output_type": "execute_result"
    }
   ],
   "source": [
    "ratings_mean_count.sort_values(by='rating_counts', ascending=False)"
   ]
  },
  {
   "cell_type": "code",
   "execution_count": 41,
   "metadata": {},
   "outputs": [
    {
     "data": {
      "text/plain": [
       "<matplotlib.axes._subplots.AxesSubplot at 0x115d27a90>"
      ]
     },
     "execution_count": 41,
     "metadata": {},
     "output_type": "execute_result"
    },
    {
     "data": {
      "image/png": "[encoded data removed]",
      "text/plain": [
       "<Figure size 576x432 with 1 Axes>"
      ]
     },
     "metadata": {
      "needs_background": "light"
     },
     "output_type": "display_data"
    }
   ],
   "source": [
    "# Verteilung der Rating_Counts\n",
    "\n",
    "plt.figure(figsize=(8,6))\n",
    "plt.rcParams['patch.force_edgecolor'] = True\n",
    "ratings_mean_count['rating_counts'].hist(bins=50)"
   ]
  },
  {
   "cell_type": "code",
   "execution_count": 42,
   "metadata": {},
   "outputs": [
    {
     "data": {
      "text/plain": [
       "<matplotlib.axes._subplots.AxesSubplot at 0x116464ed0>"
      ]
     },
     "execution_count": 42,
     "metadata": {},
     "output_type": "execute_result"
    },
    {
     "data": {
      "image/png": "[encoded data removed]",
      "text/plain": [
       "<Figure size 576x432 with 1 Axes>"
      ]
     },
     "metadata": {
      "needs_background": "light"
     },
     "output_type": "display_data"
    }
   ],
   "source": [
    "# Verteilung der Ratings (Histogram)\n",
    "plt.figure(figsize=(8,6))\n",
    "plt.rcParams['patch.force_edgecolor'] = True\n",
    "ratings_mean_count['Rating'].hist(bins=50)"
   ]
  },
  {
   "cell_type": "code",
   "execution_count": 46,
   "metadata": {},
   "outputs": [
    {
     "data": {
      "text/plain": [
       "<seaborn.axisgrid.JointGrid at 0x1a21444990>"
      ]
     },
     "execution_count": 46,
     "metadata": {},
     "output_type": "execute_result"
    },
    {
     "data": {
      "text/plain": [
       "<Figure size 576x432 with 0 Axes>"
      ]
     },
     "metadata": {},
     "output_type": "display_data"
    },
    {
     "data": {
      "image/png": "[encoded data removed]",
      "text/plain": [
       "<Figure size 432x432 with 3 Axes>"
      ]
     },
     "metadata": {
      "needs_background": "light"
     },
     "output_type": "display_data"
    }
   ],
   "source": [
    "plt.figure(figsize=(8,6))\n",
    "plt.rcParams['patch.force_edgecolor'] = True\n",
    "sns.jointplot(x='Rating', y='rating_counts', data=ratings_mean_count, alpha=0.6)"
   ]
  },
  {
   "cell_type": "code",
   "execution_count": null,
   "metadata": {},
   "outputs": [],
   "source": []
  }
 ],
 "metadata": {
  "kernelspec": {
   "display_name": "Python 3",
   "language": "python",
   "name": "python3"
  },
  "language_info": {
   "codemirror_mode": {
    "name": "ipython",
    "version": 3
   },
   "file_extension": ".py",
   "mimetype": "text/x-python",
   "name": "python",
   "nbconvert_exporter": "python",
   "pygments_lexer": "ipython3",
   "version": "3.7.6"
  }
 },
 "nbformat": 4,
 "nbformat_minor": 4
}
